{
 "cells": [
  {
   "cell_type": "markdown",
   "metadata": {},
   "source": [
    "<a id='sections'></a>\n",
    "## Contents\n",
    "\n",
    "- [Webscraping](#webscraping)\n",
    "- [Answers](#q1)\n",
    "    - [1. What is the title of the paper with the most related papers since 2010 (inclusive)?](#q1)\n",
    "    - [2. Which keyword appears the most in this collection of papers and how many times does it appear?](#q2)\n",
    "    - [3. How does the number of authors that worked on a paper impact the number of related papers?](#q3)"
   ]
  },
  {
   "cell_type": "code",
   "execution_count": null,
   "metadata": {},
   "outputs": [],
   "source": [
    "import requests\n",
    "from bs4 import BeautifulSoup\n",
    "import pandas as pd\n",
    "import re\n",
    "import matplotlib.pyplot as plt\n",
    "import seaborn as sns\n",
    "sns.set_style('whitegrid')\n",
    "from datetime import datetime\n",
    "import datetime as dt\n",
    "from collections import Counter"
   ]
  },
  {
   "cell_type": "markdown",
   "metadata": {},
   "source": [
    "<a id='webscraping'></a>\n",
    "### Webscraping\n",
    "\n",
    "[Back to top navigation](#sections)"
   ]
  },
  {
   "cell_type": "code",
   "execution_count": 2,
   "metadata": {},
   "outputs": [],
   "source": [
    "# import list of urls to scrape \n",
    "url_list = pd.read_csv('papers.csv', header=None)"
   ]
  },
  {
   "cell_type": "code",
   "execution_count": 3,
   "metadata": {},
   "outputs": [],
   "source": [
    "papers = []\n",
    "\n",
    "for url in url_list[0]:\n",
    "    res = requests.get(url)\n",
    "    soup = BeautifulSoup(res.text, 'lxml')\n",
    "    pane = soup.find(\"li\", {'id': \"pane-pcw-details\"}) # information pane on the right\n",
    "    \n",
    "    paper = {} # to store metadata of academic paper\n",
    "    \n",
    "    # TITLE\n",
    "    title = pane.find('p', {'class':'epub-section__state'}).text\n",
    "    paper['title'] = title.split(':')[1]\n",
    "    \n",
    "    # AUTHORS    \n",
    "    name_list = []\n",
    "    names = pane.find('div', {'class':'accordion-tabbed loa-accordion'}).find_all(\"a\", \"entryAuthor\")\n",
    "    for name in names:\n",
    "        name_list.append(name.text)\n",
    "    paper['authors'] = name_list\n",
    "    \n",
    "    # PUBLISHED DATE\n",
    "    # info containing received, accepted & published dates\n",
    "    info = pane.find('ul', {'class':'rlist article-chapter-history-list'}).find_all('li')\n",
    "    for line in info:\n",
    "        m = re.search(r'Published', line.text) # search for line containing published date\n",
    "        if m:\n",
    "            published_date = line.text.split(':')[1]\n",
    "            date_object = datetime.strptime(published_date, '%B %d, %Y').date()\n",
    "            paper['published_date'] = date_object\n",
    "            \n",
    "    # KEYWORDS\n",
    "    kw_list = []\n",
    "    keywords = pane.find_all('a', {'class':'badge-type'})\n",
    "    for kw in keywords:\n",
    "        kw_list.append(kw.text)\n",
    "    paper['keywords'] = kw_list\n",
    "    \n",
    "    # TOTAL NUMBER OF RELATED PAPERS\n",
    "    # list of papers that cited this paper\n",
    "    cited_by_list = soup.find('div', {'id':'relatedTab1', 'class':'accordion-tabbed__content'}).find_all('div', {'class': 'related__title'})\n",
    "    paper['num_related_papers'] = len(cited_by_list)\n",
    "    \n",
    "    papers.append(paper)"
   ]
  },
  {
   "cell_type": "code",
   "execution_count": 4,
   "metadata": {},
   "outputs": [],
   "source": [
    "df = pd.DataFrame(papers)"
   ]
  },
  {
   "cell_type": "code",
   "execution_count": 5,
   "metadata": {
    "scrolled": true
   },
   "outputs": [
    {
     "data": {
      "text/html": [
       "<div>\n",
       "<style scoped>\n",
       "    .dataframe tbody tr th:only-of-type {\n",
       "        vertical-align: middle;\n",
       "    }\n",
       "\n",
       "    .dataframe tbody tr th {\n",
       "        vertical-align: top;\n",
       "    }\n",
       "\n",
       "    .dataframe thead th {\n",
       "        text-align: right;\n",
       "    }\n",
       "</style>\n",
       "<table border=\"1\" class=\"dataframe\">\n",
       "  <thead>\n",
       "    <tr style=\"text-align: right;\">\n",
       "      <th></th>\n",
       "      <th>title</th>\n",
       "      <th>authors</th>\n",
       "      <th>published_date</th>\n",
       "      <th>keywords</th>\n",
       "      <th>num_related_papers</th>\n",
       "    </tr>\n",
       "  </thead>\n",
       "  <tbody>\n",
       "    <tr>\n",
       "      <th>0</th>\n",
       "      <td>Patient Prioritization in Emergency Department...</td>\n",
       "      <td>[Yichuan Ding, Eric Park, Mahesh Nagarajan, Er...</td>\n",
       "      <td>2019-04-08</td>\n",
       "      <td>[empirical research, emergency department, dyn...</td>\n",
       "      <td>7</td>\n",
       "    </tr>\n",
       "    <tr>\n",
       "      <th>1</th>\n",
       "      <td>Measuring and Exploiting the Impact of Exhibit...</td>\n",
       "      <td>[Victor Martínez-de-Albéniz, Ana Valdivia]</td>\n",
       "      <td>2018-12-06</td>\n",
       "      <td>[art, cultural content, consumer engagement, c...</td>\n",
       "      <td>4</td>\n",
       "    </tr>\n",
       "    <tr>\n",
       "      <th>2</th>\n",
       "      <td>Effects of Rescheduling on Patient No-Show Beh...</td>\n",
       "      <td>[Jiayi Liu, Jingui Xie, Kum Khiong Yang, Zhich...</td>\n",
       "      <td>2019-02-18</td>\n",
       "      <td>[appointment scheduling, rescheduling, no-show...</td>\n",
       "      <td>2</td>\n",
       "    </tr>\n",
       "    <tr>\n",
       "      <th>3</th>\n",
       "      <td>To Wait or Not to Wait</td>\n",
       "      <td>[Kaan Kuzu, Long Gao, Susan H. Xu]</td>\n",
       "      <td>2019-04-25</td>\n",
       "      <td>[customer behaviors, service systems, ticket q...</td>\n",
       "      <td>2</td>\n",
       "    </tr>\n",
       "    <tr>\n",
       "      <th>4</th>\n",
       "      <td>Modeling Newsvendor Behavior</td>\n",
       "      <td>[Bhavani Shanker Uppari, Sameer Hasija]</td>\n",
       "      <td>2018-07-20</td>\n",
       "      <td>[newsvendor problem, prospect theory, referenc...</td>\n",
       "      <td>13</td>\n",
       "    </tr>\n",
       "  </tbody>\n",
       "</table>\n",
       "</div>"
      ],
      "text/plain": [
       "                                               title  \\\n",
       "0  Patient Prioritization in Emergency Department...   \n",
       "1  Measuring and Exploiting the Impact of Exhibit...   \n",
       "2  Effects of Rescheduling on Patient No-Show Beh...   \n",
       "3                             To Wait or Not to Wait   \n",
       "4                       Modeling Newsvendor Behavior   \n",
       "\n",
       "                                             authors published_date  \\\n",
       "0  [Yichuan Ding, Eric Park, Mahesh Nagarajan, Er...     2019-04-08   \n",
       "1         [Victor Martínez-de-Albéniz, Ana Valdivia]     2018-12-06   \n",
       "2  [Jiayi Liu, Jingui Xie, Kum Khiong Yang, Zhich...     2019-02-18   \n",
       "3                 [Kaan Kuzu, Long Gao, Susan H. Xu]     2019-04-25   \n",
       "4            [Bhavani Shanker Uppari, Sameer Hasija]     2018-07-20   \n",
       "\n",
       "                                            keywords  num_related_papers  \n",
       "0  [empirical research, emergency department, dyn...                   7  \n",
       "1  [art, cultural content, consumer engagement, c...                   4  \n",
       "2  [appointment scheduling, rescheduling, no-show...                   2  \n",
       "3  [customer behaviors, service systems, ticket q...                   2  \n",
       "4  [newsvendor problem, prospect theory, referenc...                  13  "
      ]
     },
     "execution_count": 5,
     "metadata": {},
     "output_type": "execute_result"
    }
   ],
   "source": [
    "df.head()"
   ]
  },
  {
   "cell_type": "code",
   "execution_count": 6,
   "metadata": {},
   "outputs": [],
   "source": [
    "# count the number of authors \n",
    "df['num_authors'] = df.authors.apply(len)"
   ]
  },
  {
   "cell_type": "code",
   "execution_count": 7,
   "metadata": {},
   "outputs": [],
   "source": [
    "# extract publishing year\n",
    "df['published_year'] = pd.to_datetime(df.published_date).dt.year"
   ]
  },
  {
   "cell_type": "code",
   "execution_count": 8,
   "metadata": {},
   "outputs": [
    {
     "data": {
      "text/html": [
       "<div>\n",
       "<style scoped>\n",
       "    .dataframe tbody tr th:only-of-type {\n",
       "        vertical-align: middle;\n",
       "    }\n",
       "\n",
       "    .dataframe tbody tr th {\n",
       "        vertical-align: top;\n",
       "    }\n",
       "\n",
       "    .dataframe thead th {\n",
       "        text-align: right;\n",
       "    }\n",
       "</style>\n",
       "<table border=\"1\" class=\"dataframe\">\n",
       "  <thead>\n",
       "    <tr style=\"text-align: right;\">\n",
       "      <th></th>\n",
       "      <th>title</th>\n",
       "      <th>authors</th>\n",
       "      <th>published_date</th>\n",
       "      <th>keywords</th>\n",
       "      <th>num_related_papers</th>\n",
       "      <th>num_authors</th>\n",
       "      <th>published_year</th>\n",
       "    </tr>\n",
       "  </thead>\n",
       "  <tbody>\n",
       "    <tr>\n",
       "      <th>0</th>\n",
       "      <td>Patient Prioritization in Emergency Department...</td>\n",
       "      <td>[Yichuan Ding, Eric Park, Mahesh Nagarajan, Er...</td>\n",
       "      <td>2019-04-08</td>\n",
       "      <td>[empirical research, emergency department, dyn...</td>\n",
       "      <td>7</td>\n",
       "      <td>4</td>\n",
       "      <td>2019</td>\n",
       "    </tr>\n",
       "    <tr>\n",
       "      <th>1</th>\n",
       "      <td>Measuring and Exploiting the Impact of Exhibit...</td>\n",
       "      <td>[Victor Martínez-de-Albéniz, Ana Valdivia]</td>\n",
       "      <td>2018-12-06</td>\n",
       "      <td>[art, cultural content, consumer engagement, c...</td>\n",
       "      <td>4</td>\n",
       "      <td>2</td>\n",
       "      <td>2018</td>\n",
       "    </tr>\n",
       "    <tr>\n",
       "      <th>2</th>\n",
       "      <td>Effects of Rescheduling on Patient No-Show Beh...</td>\n",
       "      <td>[Jiayi Liu, Jingui Xie, Kum Khiong Yang, Zhich...</td>\n",
       "      <td>2019-02-18</td>\n",
       "      <td>[appointment scheduling, rescheduling, no-show...</td>\n",
       "      <td>2</td>\n",
       "      <td>4</td>\n",
       "      <td>2019</td>\n",
       "    </tr>\n",
       "    <tr>\n",
       "      <th>3</th>\n",
       "      <td>To Wait or Not to Wait</td>\n",
       "      <td>[Kaan Kuzu, Long Gao, Susan H. Xu]</td>\n",
       "      <td>2019-04-25</td>\n",
       "      <td>[customer behaviors, service systems, ticket q...</td>\n",
       "      <td>2</td>\n",
       "      <td>3</td>\n",
       "      <td>2019</td>\n",
       "    </tr>\n",
       "    <tr>\n",
       "      <th>4</th>\n",
       "      <td>Modeling Newsvendor Behavior</td>\n",
       "      <td>[Bhavani Shanker Uppari, Sameer Hasija]</td>\n",
       "      <td>2018-07-20</td>\n",
       "      <td>[newsvendor problem, prospect theory, referenc...</td>\n",
       "      <td>13</td>\n",
       "      <td>2</td>\n",
       "      <td>2018</td>\n",
       "    </tr>\n",
       "  </tbody>\n",
       "</table>\n",
       "</div>"
      ],
      "text/plain": [
       "                                               title  \\\n",
       "0  Patient Prioritization in Emergency Department...   \n",
       "1  Measuring and Exploiting the Impact of Exhibit...   \n",
       "2  Effects of Rescheduling on Patient No-Show Beh...   \n",
       "3                             To Wait or Not to Wait   \n",
       "4                       Modeling Newsvendor Behavior   \n",
       "\n",
       "                                             authors published_date  \\\n",
       "0  [Yichuan Ding, Eric Park, Mahesh Nagarajan, Er...     2019-04-08   \n",
       "1         [Victor Martínez-de-Albéniz, Ana Valdivia]     2018-12-06   \n",
       "2  [Jiayi Liu, Jingui Xie, Kum Khiong Yang, Zhich...     2019-02-18   \n",
       "3                 [Kaan Kuzu, Long Gao, Susan H. Xu]     2019-04-25   \n",
       "4            [Bhavani Shanker Uppari, Sameer Hasija]     2018-07-20   \n",
       "\n",
       "                                            keywords  num_related_papers  \\\n",
       "0  [empirical research, emergency department, dyn...                   7   \n",
       "1  [art, cultural content, consumer engagement, c...                   4   \n",
       "2  [appointment scheduling, rescheduling, no-show...                   2   \n",
       "3  [customer behaviors, service systems, ticket q...                   2   \n",
       "4  [newsvendor problem, prospect theory, referenc...                  13   \n",
       "\n",
       "   num_authors  published_year  \n",
       "0            4            2019  \n",
       "1            2            2018  \n",
       "2            4            2019  \n",
       "3            3            2019  \n",
       "4            2            2018  "
      ]
     },
     "execution_count": 8,
     "metadata": {},
     "output_type": "execute_result"
    }
   ],
   "source": [
    "df.head()"
   ]
  },
  {
   "cell_type": "markdown",
   "metadata": {},
   "source": [
    "<a id='q1'></a>\n",
    "### 1. What is the title of the paper with the most related papers since 2010 (inclusive)?\n",
    "[Back to top navigation](#sections)"
   ]
  },
  {
   "cell_type": "code",
   "execution_count": 9,
   "metadata": {},
   "outputs": [],
   "source": [
    "# subset df for year >= 2010\n",
    "df_from_2010 = df[df.published_year >= 2010]"
   ]
  },
  {
   "cell_type": "code",
   "execution_count": 10,
   "metadata": {
    "scrolled": true
   },
   "outputs": [],
   "source": [
    "t = df_from_2010.sort_values('num_related_papers', ascending=False).head(1)['title'].values"
   ]
  },
  {
   "cell_type": "code",
   "execution_count": 11,
   "metadata": {},
   "outputs": [
    {
     "name": "stdout",
     "output_type": "stream",
     "text": [
      "The title of the paper with the most related papers since 2010 (inclusive) is: \n",
      " ['Pricing Multiple Products with the Multinomial Logit and Nested Logit Models']\n"
     ]
    }
   ],
   "source": [
    "print('The title of the paper with the most related papers since 2010 (inclusive) is: \\n', str(t))"
   ]
  },
  {
   "cell_type": "markdown",
   "metadata": {},
   "source": [
    "<a id='q2'></a>\n",
    "### 2. Which keyword appears the most in this collection of papers and how many times does it appear?\n",
    "[Back to top navigation](#sections)"
   ]
  },
  {
   "cell_type": "code",
   "execution_count": 12,
   "metadata": {},
   "outputs": [],
   "source": [
    "# flatten list of keyword lists\n",
    "all_kws = [kw for lst in df.keywords for kw in lst]"
   ]
  },
  {
   "cell_type": "code",
   "execution_count": 13,
   "metadata": {},
   "outputs": [],
   "source": [
    "# count the frequency of each keyword\n",
    "counts = Counter(all_kws)"
   ]
  },
  {
   "cell_type": "code",
   "execution_count": 14,
   "metadata": {},
   "outputs": [
    {
     "data": {
      "text/plain": [
       "[('pricing', 9),\n",
       " ('behavioral operations', 8),\n",
       " ('service operations', 7),\n",
       " ('supply chain management', 6),\n",
       " ('game theory', 5),\n",
       " ('empirical research', 4),\n",
       " ('inventory', 4),\n",
       " ('dynamic programming', 4),\n",
       " ('bounded rationality', 4),\n",
       " ('behavioral operations management', 4)]"
      ]
     },
     "execution_count": 14,
     "metadata": {},
     "output_type": "execute_result"
    }
   ],
   "source": [
    "# sort the keywords by frequency in descending order\n",
    "counts.most_common()[:10]"
   ]
  },
  {
   "cell_type": "markdown",
   "metadata": {},
   "source": [
    "The most common keyword is **'pricing'**. It appeared 9 times."
   ]
  },
  {
   "cell_type": "markdown",
   "metadata": {},
   "source": [
    "<a id='q3'></a>\n",
    "### 3. How does the number of authors that worked on a paper impact the number of related papers?\n",
    "[Back to top navigation](#sections)"
   ]
  },
  {
   "cell_type": "code",
   "execution_count": 15,
   "metadata": {},
   "outputs": [],
   "source": [
    "def scatterplot(dataframe, x, y, x_label, y_label, title):\n",
    "    fig, ax = plt.subplots(figsize=(8,7))\n",
    "    ax = sns.regplot(x=dataframe[x], y=dataframe[y], data=dataframe)\n",
    "    ax.set_title(title, fontsize=16)                 \n",
    "    ax.set_xlabel(x_label, fontsize=13)\n",
    "    ax.set_ylabel(y_label, fontsize=13)"
   ]
  },
  {
   "cell_type": "code",
   "execution_count": 16,
   "metadata": {},
   "outputs": [
    {
     "data": {
      "image/png": "[encoded data removed]",
      "text/plain": [
       "<Figure size 576x504 with 1 Axes>"
      ]
     },
     "metadata": {},
     "output_type": "display_data"
    }
   ],
   "source": [
    "scatterplot(df, 'num_authors', 'num_related_papers', 'Number of authors', 'Number of related papers', 'Number of Related Papers vs. Authors')"
   ]
  },
  {
   "cell_type": "markdown",
   "metadata": {},
   "source": [
    "Although there seems to be a slight downward trend in the graph, we cannot conclude that the number of authors impacts the number of related papers. \n",
    "\n",
    "The downward trend we see is likely contributed by the effect of outliers with unusually high counts of related papers for num_authors = 2/3/4, particularly for num_authors=2. As these outliers are the exception rather than the norm, we have insufficient evidence to state that there is a relationship between the number of authors and number of related papers."
   ]
  }
 ],
 "metadata": {
  "kernelspec": {
   "display_name": "Python 3",
   "language": "python",
   "name": "python3"
  },
  "language_info": {
   "codemirror_mode": {
    "name": "ipython",
    "version": 3
   },
   "file_extension": ".py",
   "mimetype": "text/x-python",
   "name": "python",
   "nbconvert_exporter": "python",
   "pygments_lexer": "ipython3",
   "version": "3.7.6"
  }
 },
 "nbformat": 4,
 "nbformat_minor": 4
}
